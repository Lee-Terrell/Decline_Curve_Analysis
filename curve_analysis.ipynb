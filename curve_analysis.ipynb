{
 "cells": [
  {
   "cell_type": "markdown",
   "metadata": {},
   "source": [
    "##### After initial solo attempt, this has been strongly influenced by <br> *https://techrando.com/2019/07/03/how-to-automate-decline-curve-analysis-dca-in-python-using-scipys-optimize-curve_fit-function/*"
   ]
  },
  {
   "cell_type": "code",
   "execution_count": 3,
   "metadata": {},
   "outputs": [],
   "source": [
    "# import dependencies\n",
    "import matplotlib.pyplot as plt\n",
    "import numpy as np\n",
    "import pandas as pd\n",
    "from scipy.optimize import curve_fit"
   ]
  },
  {
   "cell_type": "code",
   "execution_count": 4,
   "metadata": {},
   "outputs": [],
   "source": [
    "def hyperbolic_decline(t,qi,b,di):\n",
    "    return qi/((1.0+b*di*t)**(1.0/b))"
   ]
  },
  {
   "cell_type": "code",
   "execution_count": 5,
   "metadata": {},
   "outputs": [],
   "source": [
    "def exponential_decline(t,qi,di):\n",
    "    return qi*np.exp(-di*t)"
   ]
  },
  {
   "cell_type": "code",
   "execution_count": 8,
   "metadata": {},
   "outputs": [],
   "source": [
    "def get_max_initial_production(df,number_of_months,oil_volume_col):\n",
    "    df = df.sort_index()\n",
    "    df_initial_production = df.head(number_of_months)\n",
    "    return df_initial_production[oil_volume_col].max()"
   ]
  },
  {
   "cell_type": "code",
   "execution_count": 7,
   "metadata": {},
   "outputs": [
    {
     "data": {
      "text/html": [
       "<div>\n",
       "<style scoped>\n",
       "    .dataframe tbody tr th:only-of-type {\n",
       "        vertical-align: middle;\n",
       "    }\n",
       "\n",
       "    .dataframe tbody tr th {\n",
       "        vertical-align: top;\n",
       "    }\n",
       "\n",
       "    .dataframe thead th {\n",
       "        text-align: right;\n",
       "    }\n",
       "</style>\n",
       "<table border=\"1\" class=\"dataframe\">\n",
       "  <thead>\n",
       "    <tr style=\"text-align: right;\">\n",
       "      <th></th>\n",
       "      <th>Completion Prop Num</th>\n",
       "      <th>Test Oil Vol (bbl)</th>\n",
       "      <th>Test Gas Vol (MCF)</th>\n",
       "      <th>Test Water Vol (bbl)</th>\n",
       "    </tr>\n",
       "    <tr>\n",
       "      <th>Unit Name/Test Date</th>\n",
       "      <th></th>\n",
       "      <th></th>\n",
       "      <th></th>\n",
       "      <th></th>\n",
       "    </tr>\n",
       "  </thead>\n",
       "  <tbody>\n",
       "    <tr>\n",
       "      <th>2018-09-16</th>\n",
       "      <td>W1CE7C2E2I</td>\n",
       "      <td>5</td>\n",
       "      <td>NaN</td>\n",
       "      <td>392</td>\n",
       "    </tr>\n",
       "    <tr>\n",
       "      <th>2018-09-17</th>\n",
       "      <td>W1CE7C2E2I</td>\n",
       "      <td>15</td>\n",
       "      <td>NaN</td>\n",
       "      <td>327</td>\n",
       "    </tr>\n",
       "    <tr>\n",
       "      <th>2018-09-20</th>\n",
       "      <td>W1CE7C2E2I</td>\n",
       "      <td>40</td>\n",
       "      <td>NaN</td>\n",
       "      <td>379</td>\n",
       "    </tr>\n",
       "    <tr>\n",
       "      <th>2018-09-22</th>\n",
       "      <td>W1CE7C2E2I</td>\n",
       "      <td>50</td>\n",
       "      <td>NaN</td>\n",
       "      <td>368</td>\n",
       "    </tr>\n",
       "    <tr>\n",
       "      <th>2018-09-24</th>\n",
       "      <td>W1CE7C2E2I</td>\n",
       "      <td>56</td>\n",
       "      <td>NaN</td>\n",
       "      <td>352</td>\n",
       "    </tr>\n",
       "  </tbody>\n",
       "</table>\n",
       "</div>"
      ],
      "text/plain": [
       "                    Completion Prop Num  Test Oil Vol (bbl)  \\\n",
       "Unit Name/Test Date                                           \n",
       "2018-09-16                   W1CE7C2E2I                   5   \n",
       "2018-09-17                   W1CE7C2E2I                  15   \n",
       "2018-09-20                   W1CE7C2E2I                  40   \n",
       "2018-09-22                   W1CE7C2E2I                  50   \n",
       "2018-09-24                   W1CE7C2E2I                  56   \n",
       "\n",
       "                     Test Gas Vol (MCF)  Test Water Vol (bbl)  \n",
       "Unit Name/Test Date                                            \n",
       "2018-09-16                          NaN                   392  \n",
       "2018-09-17                          NaN                   327  \n",
       "2018-09-20                          NaN                   379  \n",
       "2018-09-22                          NaN                   368  \n",
       "2018-09-24                          NaN                   352  "
      ]
     },
     "execution_count": 7,
     "metadata": {},
     "output_type": "execute_result"
    }
   ],
   "source": [
    "well_8a = pd.read_excel('Data/8a.xlsx',parse_dates=True,index_col='Unit Name/Test Date')\n",
    "well_8a.head()"
   ]
  },
  {
   "cell_type": "code",
   "execution_count": 11,
   "metadata": {},
   "outputs": [
    {
     "data": {
      "text/plain": [
       "17790"
      ]
     },
     "execution_count": 11,
     "metadata": {},
     "output_type": "execute_result"
    }
   ],
   "source": [
    "import datetime as dt\n",
    "\n",
    "# Convert date to a numerical number that can be graphed\n",
    "def convert_datetime_to_int(date):\n",
    "    return((date - dt.datetime(1970,1,1)).days)\n",
    "\n",
    "\n",
    "# TEST to see that it works\n",
    "convert_datetime_to_int(well_8a.index[0])"
   ]
  },
  {
   "cell_type": "code",
   "execution_count": 13,
   "metadata": {},
   "outputs": [
    {
     "data": {
      "text/html": [
       "<div>\n",
       "<style scoped>\n",
       "    .dataframe tbody tr th:only-of-type {\n",
       "        vertical-align: middle;\n",
       "    }\n",
       "\n",
       "    .dataframe tbody tr th {\n",
       "        vertical-align: top;\n",
       "    }\n",
       "\n",
       "    .dataframe thead th {\n",
       "        text-align: right;\n",
       "    }\n",
       "</style>\n",
       "<table border=\"1\" class=\"dataframe\">\n",
       "  <thead>\n",
       "    <tr style=\"text-align: right;\">\n",
       "      <th></th>\n",
       "      <th>Completion Prop Num</th>\n",
       "      <th>Test Oil Vol (bbl)</th>\n",
       "      <th>Test Gas Vol (MCF)</th>\n",
       "      <th>Test Water Vol (bbl)</th>\n",
       "      <th>Days_Online</th>\n",
       "    </tr>\n",
       "    <tr>\n",
       "      <th>Unit Name/Test Date</th>\n",
       "      <th></th>\n",
       "      <th></th>\n",
       "      <th></th>\n",
       "      <th></th>\n",
       "      <th></th>\n",
       "    </tr>\n",
       "  </thead>\n",
       "  <tbody>\n",
       "    <tr>\n",
       "      <th>2018-09-16</th>\n",
       "      <td>W1CE7C2E2I</td>\n",
       "      <td>5</td>\n",
       "      <td>NaN</td>\n",
       "      <td>392</td>\n",
       "      <td>17790</td>\n",
       "    </tr>\n",
       "    <tr>\n",
       "      <th>2018-09-17</th>\n",
       "      <td>W1CE7C2E2I</td>\n",
       "      <td>15</td>\n",
       "      <td>NaN</td>\n",
       "      <td>327</td>\n",
       "      <td>17791</td>\n",
       "    </tr>\n",
       "    <tr>\n",
       "      <th>2018-09-20</th>\n",
       "      <td>W1CE7C2E2I</td>\n",
       "      <td>40</td>\n",
       "      <td>NaN</td>\n",
       "      <td>379</td>\n",
       "      <td>17794</td>\n",
       "    </tr>\n",
       "    <tr>\n",
       "      <th>2018-09-22</th>\n",
       "      <td>W1CE7C2E2I</td>\n",
       "      <td>50</td>\n",
       "      <td>NaN</td>\n",
       "      <td>368</td>\n",
       "      <td>17796</td>\n",
       "    </tr>\n",
       "    <tr>\n",
       "      <th>2018-09-24</th>\n",
       "      <td>W1CE7C2E2I</td>\n",
       "      <td>56</td>\n",
       "      <td>NaN</td>\n",
       "      <td>352</td>\n",
       "      <td>17798</td>\n",
       "    </tr>\n",
       "  </tbody>\n",
       "</table>\n",
       "</div>"
      ],
      "text/plain": [
       "                    Completion Prop Num  Test Oil Vol (bbl)  \\\n",
       "Unit Name/Test Date                                           \n",
       "2018-09-16                   W1CE7C2E2I                   5   \n",
       "2018-09-17                   W1CE7C2E2I                  15   \n",
       "2018-09-20                   W1CE7C2E2I                  40   \n",
       "2018-09-22                   W1CE7C2E2I                  50   \n",
       "2018-09-24                   W1CE7C2E2I                  56   \n",
       "\n",
       "                     Test Gas Vol (MCF)  Test Water Vol (bbl)  Days_Online  \n",
       "Unit Name/Test Date                                                         \n",
       "2018-09-16                          NaN                   392        17790  \n",
       "2018-09-17                          NaN                   327        17791  \n",
       "2018-09-20                          NaN                   379        17794  \n",
       "2018-09-22                          NaN                   368        17796  \n",
       "2018-09-24                          NaN                   352        17798  "
      ]
     },
     "execution_count": 13,
     "metadata": {},
     "output_type": "execute_result"
    }
   ],
   "source": [
    "# Map it to the entire DF\n",
    "well_8a['Days_Online'] = well_8a.index.map(convert_datetime_to_int)\n",
    "well_8a.head(5)"
   ]
  },
  {
   "cell_type": "code",
   "execution_count": 15,
   "metadata": {},
   "outputs": [
    {
     "data": {
      "text/html": [
       "<div>\n",
       "<style scoped>\n",
       "    .dataframe tbody tr th:only-of-type {\n",
       "        vertical-align: middle;\n",
       "    }\n",
       "\n",
       "    .dataframe tbody tr th {\n",
       "        vertical-align: top;\n",
       "    }\n",
       "\n",
       "    .dataframe thead th {\n",
       "        text-align: right;\n",
       "    }\n",
       "</style>\n",
       "<table border=\"1\" class=\"dataframe\">\n",
       "  <thead>\n",
       "    <tr style=\"text-align: right;\">\n",
       "      <th></th>\n",
       "      <th>Completion Prop Num</th>\n",
       "      <th>Test Oil Vol (bbl)</th>\n",
       "      <th>Test Gas Vol (MCF)</th>\n",
       "      <th>Test Water Vol (bbl)</th>\n",
       "      <th>Days_Online</th>\n",
       "    </tr>\n",
       "    <tr>\n",
       "      <th>Unit Name/Test Date</th>\n",
       "      <th></th>\n",
       "      <th></th>\n",
       "      <th></th>\n",
       "      <th></th>\n",
       "      <th></th>\n",
       "    </tr>\n",
       "  </thead>\n",
       "  <tbody>\n",
       "    <tr>\n",
       "      <th>2018-09-16</th>\n",
       "      <td>W1CE7C2E2I</td>\n",
       "      <td>5</td>\n",
       "      <td>NaN</td>\n",
       "      <td>392</td>\n",
       "      <td>0</td>\n",
       "    </tr>\n",
       "    <tr>\n",
       "      <th>2018-09-17</th>\n",
       "      <td>W1CE7C2E2I</td>\n",
       "      <td>15</td>\n",
       "      <td>NaN</td>\n",
       "      <td>327</td>\n",
       "      <td>1</td>\n",
       "    </tr>\n",
       "    <tr>\n",
       "      <th>2018-09-20</th>\n",
       "      <td>W1CE7C2E2I</td>\n",
       "      <td>40</td>\n",
       "      <td>NaN</td>\n",
       "      <td>379</td>\n",
       "      <td>4</td>\n",
       "    </tr>\n",
       "    <tr>\n",
       "      <th>2018-09-22</th>\n",
       "      <td>W1CE7C2E2I</td>\n",
       "      <td>50</td>\n",
       "      <td>NaN</td>\n",
       "      <td>368</td>\n",
       "      <td>6</td>\n",
       "    </tr>\n",
       "    <tr>\n",
       "      <th>2018-09-24</th>\n",
       "      <td>W1CE7C2E2I</td>\n",
       "      <td>56</td>\n",
       "      <td>NaN</td>\n",
       "      <td>352</td>\n",
       "      <td>8</td>\n",
       "    </tr>\n",
       "  </tbody>\n",
       "</table>\n",
       "</div>"
      ],
      "text/plain": [
       "                    Completion Prop Num  Test Oil Vol (bbl)  \\\n",
       "Unit Name/Test Date                                           \n",
       "2018-09-16                   W1CE7C2E2I                   5   \n",
       "2018-09-17                   W1CE7C2E2I                  15   \n",
       "2018-09-20                   W1CE7C2E2I                  40   \n",
       "2018-09-22                   W1CE7C2E2I                  50   \n",
       "2018-09-24                   W1CE7C2E2I                  56   \n",
       "\n",
       "                     Test Gas Vol (MCF)  Test Water Vol (bbl)  Days_Online  \n",
       "Unit Name/Test Date                                                         \n",
       "2018-09-16                          NaN                   392            0  \n",
       "2018-09-17                          NaN                   327            1  \n",
       "2018-09-20                          NaN                   379            4  \n",
       "2018-09-22                          NaN                   368            6  \n",
       "2018-09-24                          NaN                   352            8  "
      ]
     },
     "execution_count": 15,
     "metadata": {},
     "output_type": "execute_result"
    }
   ],
   "source": [
    "# Time-zero the day_online\n",
    "well_8a['Days_Online'] = well_8a['Days_Online'] - well_8a[\"Days_Online\"].min()\n",
    "well_8a.head(5)"
   ]
  },
  {
   "cell_type": "code",
   "execution_count": 10,
   "metadata": {},
   "outputs": [
    {
     "data": {
      "text/plain": [
       "66"
      ]
     },
     "execution_count": 10,
     "metadata": {},
     "output_type": "execute_result"
    }
   ],
   "source": [
    "qi = get_max_initial_production(well_8a, 10,\"Test Oil Vol (bbl)\")\n",
    "qi"
   ]
  },
  {
   "cell_type": "code",
   "execution_count": 16,
   "metadata": {},
   "outputs": [
    {
     "name": "stdout",
     "output_type": "stream",
     "text": [
      "Exponential Fit Curve-fitted Variables: qi=40.40, di=0.00\n"
     ]
    }
   ],
   "source": [
    "#Exponential curve fit the data to get best fit equation\n",
    "popt_exp, pcov_exp = curve_fit(exponential_decline, well_8a['Days_Online'], well_8a[\"Test Oil Vol (bbl)\"],bounds=(0, [qi,20]))\n",
    "print(f'Exponential Fit Curve-fitted Variables: qi={popt_exp[0]:.2f}, di={popt_exp[1]:.2f}')\n"
   ]
  },
  {
   "cell_type": "code",
   "execution_count": 19,
   "metadata": {},
   "outputs": [
    {
     "name": "stdout",
     "output_type": "stream",
     "text": [
      "Hyperbolic Fit Curve-fitted Variables: qi=49.33, b=2.00 , and di=0.01\n"
     ]
    }
   ],
   "source": [
    "# Hyperbolic curve fit the data to get best fit equation\n",
    "popt_hyp, pcov_hyp = curve_fit(hyperbolic_decline, well_8a['Days_Online'], well_8a[\"Test Oil Vol (bbl)\"],bounds=(0, [qi,2,20]))\n",
    "print(f'Hyperbolic Fit Curve-fitted Variables: qi={popt_hyp[0]:.2f}, b={popt_hyp[1]:.2f} , and di={popt_hyp[2]:.2f}')"
   ]
  },
  {
   "cell_type": "code",
   "execution_count": 20,
   "metadata": {},
   "outputs": [
    {
     "data": {
      "image/png": "[encoded data removed]",
      "text/plain": [
       "<Figure size 720x504 with 1 Axes>"
      ]
     },
     "metadata": {
      "needs_background": "light"
     },
     "output_type": "display_data"
    }
   ],
   "source": [
    "plt.figure(figsize=(10,7))\n",
    "plt.plot(well_8a.index, well_8a['Test Oil Vol (bbl)'],'b-',label='Well Tests')\n",
    "plt.plot(well_8a.index, exponential_decline(well_8a['Days_Online'],*popt_exp), 'r-', label= f\"fit: qi={popt_exp[0]:.3f}, di={popt_exp[1]:.3f}\")\n",
    "plt.plot(well_8a.index, hyperbolic_decline(well_8a['Days_Online'],*popt_hyp), 'g--', label= f\"fit: qi={popt_exp[0]:.3f}, b={popt_exp[1]:.3f}, di={popt_hyp[2]:.2f}\")\n",
    "#plt.plot(xdata, func(xdata,*popt2), 'g--', label= f\"fit: a={popt2[0]:.3f}, b={popt2[1]:.3f}, c={popt2[2]:.3f}\")\n",
    "plt.legend()\n",
    "plt.grid(True, which= \"both\", alpha=0.6)\n",
    "plt.yscale(\"log\")\n",
    "\n",
    "plt.show()"
   ]
  },
  {
   "cell_type": "code",
   "execution_count": null,
   "metadata": {},
   "outputs": [],
   "source": []
  }
 ],
 "metadata": {
  "interpreter": {
   "hash": "272fb65941f261c60df11d3162510ca29c82ce04d7f527ff13d60fb0c8a48ba9"
  },
  "kernelspec": {
   "display_name": "Python 3.7.9 ('PythonData')",
   "language": "python",
   "name": "python3"
  },
  "language_info": {
   "codemirror_mode": {
    "name": "ipython",
    "version": 3
   },
   "file_extension": ".py",
   "mimetype": "text/x-python",
   "name": "python",
   "nbconvert_exporter": "python",
   "pygments_lexer": "ipython3",
   "version": "3.7.9"
  },
  "orig_nbformat": 4
 },
 "nbformat": 4,
 "nbformat_minor": 2
}
